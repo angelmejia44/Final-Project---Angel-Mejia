{
 "cells": [
  {
   "cell_type": "markdown",
   "id": "bb81e97a",
   "metadata": {},
   "source": [
    "Mejia Polanco Angel Uriel 20390027"
   ]
  },
  {
   "cell_type": "code",
   "execution_count": 3,
   "id": "46c75508",
   "metadata": {},
   "outputs": [],
   "source": [
    "import pandas as pd\n",
    "import numpy as np\n",
    "import matplotlib.pyplot as plt\n",
    "from sklearn import datasets,linear_model\n",
    "from sklearn.model_selection import train_test_split\n",
    "from sklearn.linear_model import LinearRegression\n",
    "from sklearn.metrics import mean_squared_error, mean_absolute_error\n",
    "from sklearn.metrics import roc_curve, auc\n",
    "from math import sqrt"
   ]
  },
  {
   "cell_type": "markdown",
   "id": "b867cf82",
   "metadata": {},
   "source": [
    "# Understanding the Data"
   ]
  },
  {
   "cell_type": "code",
   "execution_count": 4,
   "id": "e7360653",
   "metadata": {},
   "outputs": [
    {
     "data": {
      "text/html": [
       "<div>\n",
       "<style scoped>\n",
       "    .dataframe tbody tr th:only-of-type {\n",
       "        vertical-align: middle;\n",
       "    }\n",
       "\n",
       "    .dataframe tbody tr th {\n",
       "        vertical-align: top;\n",
       "    }\n",
       "\n",
       "    .dataframe thead th {\n",
       "        text-align: right;\n",
       "    }\n",
       "</style>\n",
       "<table border=\"1\" class=\"dataframe\">\n",
       "  <thead>\n",
       "    <tr style=\"text-align: right;\">\n",
       "      <th></th>\n",
       "      <th>gender</th>\n",
       "      <th>age</th>\n",
       "      <th>hypertension</th>\n",
       "      <th>heart_disease</th>\n",
       "      <th>smoking_history</th>\n",
       "      <th>bmi</th>\n",
       "      <th>HbA1c_level</th>\n",
       "      <th>blood_glucose_level</th>\n",
       "      <th>diabetes</th>\n",
       "    </tr>\n",
       "  </thead>\n",
       "  <tbody>\n",
       "    <tr>\n",
       "      <th>0</th>\n",
       "      <td>Female</td>\n",
       "      <td>80.0</td>\n",
       "      <td>0</td>\n",
       "      <td>1</td>\n",
       "      <td>never</td>\n",
       "      <td>25.19</td>\n",
       "      <td>6.6</td>\n",
       "      <td>140</td>\n",
       "      <td>0</td>\n",
       "    </tr>\n",
       "    <tr>\n",
       "      <th>1</th>\n",
       "      <td>Female</td>\n",
       "      <td>54.0</td>\n",
       "      <td>0</td>\n",
       "      <td>0</td>\n",
       "      <td>No Info</td>\n",
       "      <td>27.32</td>\n",
       "      <td>6.6</td>\n",
       "      <td>80</td>\n",
       "      <td>0</td>\n",
       "    </tr>\n",
       "    <tr>\n",
       "      <th>2</th>\n",
       "      <td>Male</td>\n",
       "      <td>28.0</td>\n",
       "      <td>0</td>\n",
       "      <td>0</td>\n",
       "      <td>never</td>\n",
       "      <td>27.32</td>\n",
       "      <td>5.7</td>\n",
       "      <td>158</td>\n",
       "      <td>0</td>\n",
       "    </tr>\n",
       "    <tr>\n",
       "      <th>3</th>\n",
       "      <td>Female</td>\n",
       "      <td>36.0</td>\n",
       "      <td>0</td>\n",
       "      <td>0</td>\n",
       "      <td>current</td>\n",
       "      <td>23.45</td>\n",
       "      <td>5.0</td>\n",
       "      <td>155</td>\n",
       "      <td>0</td>\n",
       "    </tr>\n",
       "    <tr>\n",
       "      <th>4</th>\n",
       "      <td>Male</td>\n",
       "      <td>76.0</td>\n",
       "      <td>1</td>\n",
       "      <td>1</td>\n",
       "      <td>current</td>\n",
       "      <td>20.14</td>\n",
       "      <td>4.8</td>\n",
       "      <td>155</td>\n",
       "      <td>0</td>\n",
       "    </tr>\n",
       "    <tr>\n",
       "      <th>...</th>\n",
       "      <td>...</td>\n",
       "      <td>...</td>\n",
       "      <td>...</td>\n",
       "      <td>...</td>\n",
       "      <td>...</td>\n",
       "      <td>...</td>\n",
       "      <td>...</td>\n",
       "      <td>...</td>\n",
       "      <td>...</td>\n",
       "    </tr>\n",
       "    <tr>\n",
       "      <th>99995</th>\n",
       "      <td>Female</td>\n",
       "      <td>80.0</td>\n",
       "      <td>0</td>\n",
       "      <td>0</td>\n",
       "      <td>No Info</td>\n",
       "      <td>27.32</td>\n",
       "      <td>6.2</td>\n",
       "      <td>90</td>\n",
       "      <td>0</td>\n",
       "    </tr>\n",
       "    <tr>\n",
       "      <th>99996</th>\n",
       "      <td>Female</td>\n",
       "      <td>2.0</td>\n",
       "      <td>0</td>\n",
       "      <td>0</td>\n",
       "      <td>No Info</td>\n",
       "      <td>17.37</td>\n",
       "      <td>6.5</td>\n",
       "      <td>100</td>\n",
       "      <td>0</td>\n",
       "    </tr>\n",
       "    <tr>\n",
       "      <th>99997</th>\n",
       "      <td>Male</td>\n",
       "      <td>66.0</td>\n",
       "      <td>0</td>\n",
       "      <td>0</td>\n",
       "      <td>former</td>\n",
       "      <td>27.83</td>\n",
       "      <td>5.7</td>\n",
       "      <td>155</td>\n",
       "      <td>0</td>\n",
       "    </tr>\n",
       "    <tr>\n",
       "      <th>99998</th>\n",
       "      <td>Female</td>\n",
       "      <td>24.0</td>\n",
       "      <td>0</td>\n",
       "      <td>0</td>\n",
       "      <td>never</td>\n",
       "      <td>35.42</td>\n",
       "      <td>4.0</td>\n",
       "      <td>100</td>\n",
       "      <td>0</td>\n",
       "    </tr>\n",
       "    <tr>\n",
       "      <th>99999</th>\n",
       "      <td>Female</td>\n",
       "      <td>57.0</td>\n",
       "      <td>0</td>\n",
       "      <td>0</td>\n",
       "      <td>current</td>\n",
       "      <td>22.43</td>\n",
       "      <td>6.6</td>\n",
       "      <td>90</td>\n",
       "      <td>0</td>\n",
       "    </tr>\n",
       "  </tbody>\n",
       "</table>\n",
       "<p>100000 rows × 9 columns</p>\n",
       "</div>"
      ],
      "text/plain": [
       "       gender   age  hypertension  heart_disease smoking_history    bmi   \n",
       "0      Female  80.0             0              1           never  25.19  \\\n",
       "1      Female  54.0             0              0         No Info  27.32   \n",
       "2        Male  28.0             0              0           never  27.32   \n",
       "3      Female  36.0             0              0         current  23.45   \n",
       "4        Male  76.0             1              1         current  20.14   \n",
       "...       ...   ...           ...            ...             ...    ...   \n",
       "99995  Female  80.0             0              0         No Info  27.32   \n",
       "99996  Female   2.0             0              0         No Info  17.37   \n",
       "99997    Male  66.0             0              0          former  27.83   \n",
       "99998  Female  24.0             0              0           never  35.42   \n",
       "99999  Female  57.0             0              0         current  22.43   \n",
       "\n",
       "       HbA1c_level  blood_glucose_level  diabetes  \n",
       "0              6.6                  140         0  \n",
       "1              6.6                   80         0  \n",
       "2              5.7                  158         0  \n",
       "3              5.0                  155         0  \n",
       "4              4.8                  155         0  \n",
       "...            ...                  ...       ...  \n",
       "99995          6.2                   90         0  \n",
       "99996          6.5                  100         0  \n",
       "99997          5.7                  155         0  \n",
       "99998          4.0                  100         0  \n",
       "99999          6.6                   90         0  \n",
       "\n",
       "[100000 rows x 9 columns]"
      ]
     },
     "execution_count": 4,
     "metadata": {},
     "output_type": "execute_result"
    }
   ],
   "source": [
    "diabetes = pd.read_csv(\"diabetes_prediction_dataset.csv\")\n",
    "diabetes"
   ]
  },
  {
   "cell_type": "markdown",
   "id": "5ffa0283",
   "metadata": {},
   "source": [
    "# Number of rows and columns"
   ]
  },
  {
   "cell_type": "code",
   "execution_count": 5,
   "id": "694ff126",
   "metadata": {},
   "outputs": [
    {
     "name": "stdout",
     "output_type": "stream",
     "text": [
      "Number of Rows of Data= 100000\n",
      "Number of columns of Data= 9\n"
     ]
    }
   ],
   "source": [
    "#Number of rows and columns\n",
    "rows, columns = diabetes.shape\n",
    "print(f\"Number of Rows of Data= {rows}\")\n",
    "print(f\"Number of columns of Data= {columns}\")"
   ]
  },
  {
   "cell_type": "markdown",
   "id": "64539c42",
   "metadata": {},
   "source": [
    "# Number of categorical variables and number of unique values for each"
   ]
  },
  {
   "cell_type": "code",
   "execution_count": 6,
   "id": "834e4902",
   "metadata": {},
   "outputs": [
    {
     "name": "stdout",
     "output_type": "stream",
     "text": [
      "Variables categóricas: 2\n",
      "Los valores unicos destinados para gender: 3\n",
      "Los valores unicos destinados para smoking_history: 6\n"
     ]
    }
   ],
   "source": [
    "categVaria = diabetes.select_dtypes(include='object').columns\n",
    "totalCategVaria = len(categVaria)\n",
    "print(\"Variables categóricas:\", totalCategVaria)\n",
    "\n",
    "for var in categVaria:\n",
    "    uniqValues = diabetes[var].nunique()\n",
    "    print(f\"Los valores unicos destinados para {var}: {uniqValues}\")"
   ]
  },
  {
   "cell_type": "markdown",
   "id": "f4fcd521",
   "metadata": {},
   "source": [
    "# Missing values"
   ]
  },
  {
   "cell_type": "code",
   "execution_count": 7,
   "id": "2edecf7f",
   "metadata": {},
   "outputs": [
    {
     "name": "stdout",
     "output_type": "stream",
     "text": [
      "gender                 False\n",
      "age                    False\n",
      "hypertension           False\n",
      "heart_disease          False\n",
      "smoking_history        False\n",
      "bmi                    False\n",
      "HbA1c_level            False\n",
      "blood_glucose_level    False\n",
      "diabetes               False\n",
      "dtype: bool\n"
     ]
    }
   ],
   "source": [
    "#Missing values\n",
    "MissingValue = diabetes.isnull().any()\n",
    "print(MissingValue)"
   ]
  },
  {
   "cell_type": "code",
   "execution_count": 8,
   "id": "6fb4f912",
   "metadata": {},
   "outputs": [
    {
     "name": "stdout",
     "output_type": "stream",
     "text": [
      "gender                 0\n",
      "age                    0\n",
      "hypertension           0\n",
      "heart_disease          0\n",
      "smoking_history        0\n",
      "bmi                    0\n",
      "HbA1c_level            0\n",
      "blood_glucose_level    0\n",
      "diabetes               0\n",
      "dtype: int64\n"
     ]
    }
   ],
   "source": [
    "#Este segundo metodo permite comprobar el primer resultado, el cual es de tipo boleano. Y el segundo al de tipo int64, demuestra\n",
    "#que el \"false\" del boleano y \"0\" del int64 coinciden en sus resultados. \n",
    "#Missing values\n",
    "MissingValue = diabetes.isnull().sum()\n",
    "print(MissingValue)"
   ]
  },
  {
   "cell_type": "markdown",
   "id": "cd55046b",
   "metadata": {},
   "source": [
    "# Summary statistics for attributes and labels"
   ]
  },
  {
   "cell_type": "code",
   "execution_count": 9,
   "id": "6161370e",
   "metadata": {},
   "outputs": [
    {
     "name": "stdout",
     "output_type": "stream",
     "text": [
      "                 age  hypertension  heart_disease            bmi   \n",
      "count  100000.000000  100000.00000  100000.000000  100000.000000  \\\n",
      "mean       41.885856       0.07485       0.039420      27.320767   \n",
      "std        22.516840       0.26315       0.194593       6.636783   \n",
      "min         0.080000       0.00000       0.000000      10.010000   \n",
      "25%        24.000000       0.00000       0.000000      23.630000   \n",
      "50%        43.000000       0.00000       0.000000      27.320000   \n",
      "75%        60.000000       0.00000       0.000000      29.580000   \n",
      "max        80.000000       1.00000       1.000000      95.690000   \n",
      "\n",
      "         HbA1c_level  blood_glucose_level       diabetes  \n",
      "count  100000.000000        100000.000000  100000.000000  \n",
      "mean        5.527507           138.058060       0.085000  \n",
      "std         1.070672            40.708136       0.278883  \n",
      "min         3.500000            80.000000       0.000000  \n",
      "25%         4.800000           100.000000       0.000000  \n",
      "50%         5.800000           140.000000       0.000000  \n",
      "75%         6.200000           159.000000       0.000000  \n",
      "max         9.000000           300.000000       1.000000  \n"
     ]
    }
   ],
   "source": [
    "#Summary statistics for attributes and labels\n",
    "SummaryStatic = diabetes.describe()\n",
    "print(SummaryStatic)"
   ]
  },
  {
   "cell_type": "code",
   "execution_count": 14,
   "id": "852b12d7",
   "metadata": {},
   "outputs": [],
   "source": [
    "dfDiabetes = pd.read_csv(\"diabetes_prediction_dataset.csv\")\n",
    "resultadoDiabetes = dfDiabetes.select_dtypes(include=[np.number]).values"
   ]
  },
  {
   "cell_type": "code",
   "execution_count": 15,
   "id": "d1ef174b",
   "metadata": {},
   "outputs": [
    {
     "data": {
      "image/png": "[encoded data removed]",
      "text/plain": [
       "<Figure size 640x480 with 1 Axes>"
      ]
     },
     "metadata": {},
     "output_type": "display_data"
    }
   ],
   "source": [
    "#plot data\n",
    "plt.boxplot(resultadoDiabetes)\n",
    "plt.xlabel(\"Attribute Index\")\n",
    "plt.ylabel(\"Quertile Range-Normalized\")\n",
    "plt.title(\"statistics for attributes and labels\")\n",
    "plt.show()"
   ]
  },
  {
   "cell_type": "markdown",
   "id": "e5d0b202",
   "metadata": {},
   "source": [
    "# Metricas para medir el desempeño de los modelos"
   ]
  },
  {
   "cell_type": "code",
   "execution_count": 17,
   "id": "c80e92c2",
   "metadata": {},
   "outputs": [
    {
     "name": "stdout",
     "output_type": "stream",
     "text": [
      "MSE = 400.3079316438005\n",
      "RMSE = 20.00769681007288\n",
      "MAE = 16.761843642744886\n"
     ]
    }
   ],
   "source": [
    "DiabetesResult = dfDiabetes.select_dtypes(include=[float, int])\n",
    "\n",
    "PrimeSet = DiabetesResult.drop(\"age\", axis=1)\n",
    "SegunSet = DiabetesResult[\"age\"]\n",
    "\n",
    "xTraining, xTest, yTraining, yTest = train_test_split(PrimeSet, SegunSet)\n",
    "\n",
    "LinearResult = LinearRegression()\n",
    "LinearResult.fit(xTraining, yTraining)\n",
    "\n",
    "Predict = LinearResult.predict(xTest)\n",
    "\n",
    "MSE = mean_squared_error(yTest, Predict)\n",
    "RMSE = mean_squared_error(yTest, Predict, squared=False)\n",
    "MAE = mean_absolute_error(yTest, Predict)\n",
    "\n",
    "print(\"MSE =\", MSE)\n",
    "print (\"RMSE =\", RMSE)\n",
    "print(\"MAE =\", MAE)"
   ]
  },
  {
   "cell_type": "code",
   "execution_count": 18,
   "id": "3c38a19f",
   "metadata": {},
   "outputs": [
    {
     "name": "stdout",
     "output_type": "stream",
     "text": [
      "MSE = 1367.3693284624305\n",
      "RMSE = 36.97795733220577\n",
      "MAE = 30.6966909179351\n"
     ]
    }
   ],
   "source": [
    "DiabetesResult = dfDiabetes.select_dtypes(include=[float, int])\n",
    "\n",
    "PrimeSet = DiabetesResult.drop(\"blood_glucose_level\", axis=1)\n",
    "SegunSet = DiabetesResult[\"blood_glucose_level\"]\n",
    "\n",
    "xTraining, xTest, yTraining, yTest = train_test_split(PrimeSet, SegunSet)\n",
    "\n",
    "LinearResult = LinearRegression()\n",
    "LinearResult.fit(xTraining, yTraining)\n",
    "\n",
    "Predict = LinearResult.predict(xTest)\n",
    "\n",
    "MSE = mean_squared_error(yTest, Predict)\n",
    "RMSE = mean_squared_error(yTest, Predict, squared=False)\n",
    "MAE = mean_absolute_error(yTest, Predict)\n",
    "\n",
    "print(\"MSE =\", MSE)\n",
    "print (\"RMSE =\", RMSE)\n",
    "print(\"MAE =\", MAE)"
   ]
  },
  {
   "cell_type": "code",
   "execution_count": 19,
   "id": "abdfed88",
   "metadata": {},
   "outputs": [
    {
     "name": "stdout",
     "output_type": "stream",
     "text": [
      "MSE = 0.05117784024563865\n",
      "RMSE = 0.22622519807846042\n",
      "MAE = 0.1542842126812781\n"
     ]
    }
   ],
   "source": [
    "DiabetesResult = dfDiabetes.select_dtypes(include=[float, int])\n",
    "\n",
    "PrimeSet = DiabetesResult.drop(\"diabetes\", axis=1)\n",
    "SegunSet = DiabetesResult[\"diabetes\"]\n",
    "\n",
    "xTraining, xTest, yTraining, yTest = train_test_split(PrimeSet, SegunSet)\n",
    "\n",
    "LinearResult = LinearRegression()\n",
    "LinearResult.fit(xTraining, yTraining)\n",
    "\n",
    "Predict = LinearResult.predict(xTest)\n",
    "\n",
    "MSE = mean_squared_error(yTest, Predict)\n",
    "RMSE = mean_squared_error(yTest, Predict, squared=False)\n",
    "MAE = mean_absolute_error(yTest, Predict)\n",
    "\n",
    "print(\"MSE =\", MSE)\n",
    "print (\"RMSE =\", RMSE)\n",
    "print(\"MAE =\", MAE)"
   ]
  },
  {
   "cell_type": "markdown",
   "id": "5f981870",
   "metadata": {},
   "source": [
    "# Receiver Operating Characteristics (ROC)"
   ]
  },
  {
   "cell_type": "code",
   "execution_count": 20,
   "id": "88527970",
   "metadata": {},
   "outputs": [
    {
     "name": "stderr",
     "output_type": "stream",
     "text": [
      "C:\\Users\\angel\\OneDrive\\Escritorio\\IngConocimiento\\Conocimiento\\lib\\site-packages\\sklearn\\metrics\\_ranking.py:1020: UndefinedMetricWarning: No negative samples in y_true, false positive value should be meaningless\n",
      "  warnings.warn(\n"
     ]
    }
   ],
   "source": [
    "columnsNames = ['age','hypertension','heart_disease','bmi'\n",
    "                      ,'blood_glucose_level','diabetes']\n",
    "\n",
    "dfDiabetes['blood_glucose_level'] = dfDiabetes['blood_glucose_level'].apply(lambda x: 1 if x > 0 else 0)\n",
    "\n",
    "SegunSet = dfDiabetes[\"blood_glucose_level\"]\n",
    "Result = pd.get_dummies(dfDiabetes[columnsNames])\n",
    "PrimSet = pd.concat([Result, dfDiabetes[columnsNames]], axis=1)\n",
    "\n",
    "xTraining, xTest, yTraining, yTest = train_test_split(PrimSet, SegunSet)\n",
    "\n",
    "LinearResult = LinearRegression()\n",
    "LinearResult.fit(xTraining, yTraining)\n",
    "\n",
    "predict = LinearResult.predict(xTest)\n",
    "fpr, tpr, thresholds = roc_curve(yTest, predict)\n",
    "roc_auc = auc(fpr, tpr)"
   ]
  },
  {
   "cell_type": "code",
   "execution_count": 21,
   "id": "f83712d4",
   "metadata": {},
   "outputs": [
    {
     "name": "stdout",
     "output_type": "stream",
     "text": [
      "The fisrt five [1. 1. 1. 1. 1.] 59099    1\n",
      "13027    1\n",
      "79131    1\n",
      "7263     1\n",
      "10213    1\n",
      "Name: blood_glucose_level, dtype: int64\n"
     ]
    }
   ],
   "source": [
    "print(\"The fisrt five\",predict[0:5],yTraining[0:5])"
   ]
  },
  {
   "cell_type": "code",
   "execution_count": 22,
   "id": "852466b5",
   "metadata": {},
   "outputs": [
    {
     "name": "stdout",
     "output_type": "stream",
     "text": [
      "AUC for in-sample ROC curve: nan\n"
     ]
    }
   ],
   "source": [
    "roc_auc = auc(fpr,tpr)\n",
    "print(\"AUC for in-sample ROC curve: %f\" %roc_auc)"
   ]
  },
  {
   "cell_type": "code",
   "execution_count": 23,
   "id": "68f972ea",
   "metadata": {},
   "outputs": [
    {
     "data": {
      "text/plain": [
       "<function matplotlib.pyplot.show(close=None, block=None)>"
      ]
     },
     "execution_count": 23,
     "metadata": {},
     "output_type": "execute_result"
    },
    {
     "data": {
      "image/png": "[encoded data removed]",
      "text/plain": [
       "<Figure size 640x480 with 1 Axes>"
      ]
     },
     "metadata": {},
     "output_type": "display_data"
    }
   ],
   "source": [
    "# Graficar la curva ROC\n",
    "plt.plot(fpr,tpr,label='ROC curve (area=%0.2f)' % roc_auc)\n",
    "plt.plot([0,1],[0,1],'k--')\n",
    "plt.xlim([0.0,0.1])\n",
    "plt.ylim([0.0,0.1])\n",
    "plt.xlabel(\"False positive Rate\")\n",
    "plt.ylabel(\"True positive Rate\")\n",
    "plt.title('In sample ROC')\n",
    "plt.legend(loc='lower right')\n",
    "plt.show"
   ]
  },
  {
   "cell_type": "code",
   "execution_count": 24,
   "id": "37027633",
   "metadata": {},
   "outputs": [],
   "source": [
    "columnsNames = ['age','hypertension','heart_disease','bmi'\n",
    "                      ,'blood_glucose_level','diabetes']\n",
    "\n",
    "dfDiabetes['diabetes'] = dfDiabetes['diabetes'].apply(lambda x: 1 if x > 0 else 0)\n",
    "\n",
    "SegunSet = dfDiabetes[\"diabetes\"]\n",
    "Result = pd.get_dummies(dfDiabetes[columnsNames])\n",
    "PrimSet = pd.concat([Result, dfDiabetes[columnsNames]], axis=1)\n",
    "\n",
    "xTraining, xTest, yTraining, yTest = train_test_split(PrimSet, SegunSet)\n",
    "\n",
    "LinearResult = LinearRegression()\n",
    "LinearResult.fit(xTraining, yTraining)\n",
    "\n",
    "predict = LinearResult.predict(xTest)\n",
    "fpr, tpr, thresholds = roc_curve(yTest, predict)\n",
    "roc_auc = auc(fpr, tpr)"
   ]
  },
  {
   "cell_type": "code",
   "execution_count": 25,
   "id": "f5755af0",
   "metadata": {},
   "outputs": [
    {
     "name": "stdout",
     "output_type": "stream",
     "text": [
      "The fisrt five [-2.52749210e-15 -7.38124839e-16  1.53089347e-16 -7.56339436e-16\n",
      " -5.72458747e-17] 25857    0\n",
      "96794    0\n",
      "43838    0\n",
      "95558    0\n",
      "41378    1\n",
      "Name: diabetes, dtype: int64\n"
     ]
    }
   ],
   "source": [
    "print(\"The fisrt five\",predict[0:5],yTraining[0:5])"
   ]
  },
  {
   "cell_type": "code",
   "execution_count": 26,
   "id": "c4c0b327",
   "metadata": {},
   "outputs": [
    {
     "name": "stdout",
     "output_type": "stream",
     "text": [
      "AUC for in-sample ROC curve: 1.000000\n"
     ]
    }
   ],
   "source": [
    "roc_auc = auc(fpr,tpr)\n",
    "print(\"AUC for in-sample ROC curve: %f\" %roc_auc)"
   ]
  },
  {
   "cell_type": "code",
   "execution_count": 27,
   "id": "aa52c5d8",
   "metadata": {},
   "outputs": [
    {
     "data": {
      "text/plain": [
       "<function matplotlib.pyplot.show(close=None, block=None)>"
      ]
     },
     "execution_count": 27,
     "metadata": {},
     "output_type": "execute_result"
    },
    {
     "data": {
      "image/png": "[encoded data removed]",
      "text/plain": [
       "<Figure size 640x480 with 1 Axes>"
      ]
     },
     "metadata": {},
     "output_type": "display_data"
    }
   ],
   "source": [
    "# Graficar la curva ROC\n",
    "plt.plot(fpr,tpr,label='ROC curve (area=%0.2f)' % roc_auc)\n",
    "plt.plot([0,1],[0,1],'k--')\n",
    "plt.xlim([0.0,0.1])\n",
    "plt.ylim([0.0,0.1])\n",
    "plt.xlabel(\"False positive Rate\")\n",
    "plt.ylabel(\"True positive Rate\")\n",
    "plt.title('In sample ROC')\n",
    "plt.legend(loc='lower right')\n",
    "plt.show"
   ]
  },
  {
   "cell_type": "markdown",
   "id": "b26a574a",
   "metadata": {},
   "source": [
    "# LassoCV demo with data normalization and no normalization"
   ]
  },
  {
   "cell_type": "code",
   "execution_count": null,
   "id": "1cb48309",
   "metadata": {},
   "outputs": [],
   "source": []
  },
  {
   "cell_type": "markdown",
   "id": "ab8afb27",
   "metadata": {},
   "source": [
    "# Lasso Training on Full Data Set"
   ]
  },
  {
   "cell_type": "code",
   "execution_count": null,
   "id": "92c95e5d",
   "metadata": {},
   "outputs": [],
   "source": []
  }
 ],
 "metadata": {
  "kernelspec": {
   "display_name": "Python 3 (ipykernel)",
   "language": "python",
   "name": "python3"
  },
  "language_info": {
   "codemirror_mode": {
    "name": "ipython",
    "version": 3
   },
   "file_extension": ".py",
   "mimetype": "text/x-python",
   "name": "python",
   "nbconvert_exporter": "python",
   "pygments_lexer": "ipython3",
   "version": "3.10.10"
  }
 },
 "nbformat": 4,
 "nbformat_minor": 5
}
